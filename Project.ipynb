{
  "metadata": {
    "language_info": {
      "codemirror_mode": {
        "name": "python",
        "version": 3
      },
      "file_extension": ".py",
      "mimetype": "text/x-python",
      "name": "python",
      "nbconvert_exporter": "python",
      "pygments_lexer": "ipython3",
      "version": "3.8"
    },
    "kernelspec": {
      "name": "python",
      "display_name": "Python (Pyodide)",
      "language": "python"
    }
  },
  "nbformat_minor": 4,
  "nbformat": 4,
  "cells": [
    {
      "cell_type": "markdown",
      "source": "# My Jupyter Notebook on IBM Watson Studio",
      "metadata": {}
    },
    {
      "cell_type": "markdown",
      "source": "**Zhangchi Sun** <br>\nPromising data consultant",
      "metadata": {}
    },
    {
      "cell_type": "markdown",
      "source": "*I am interested in data science because it can provide me with unique views.*",
      "metadata": {}
    },
    {
      "cell_type": "markdown",
      "source": "### The following code will produce the square from 1 to 9.",
      "metadata": {}
    },
    {
      "cell_type": "code",
      "source": "def square(x):\n    return x ** 2\nfor N in range (1,10):\n    print (N, 'Squared is', square(N))",
      "metadata": {
        "tags": [],
        "trusted": true
      },
      "execution_count": 22,
      "outputs": [
        {
          "name": "stdout",
          "text": "1 Squared is 1\n2 Squared is 4\n3 Squared is 9\n4 Squared is 16\n5 Squared is 25\n6 Squared is 36\n7 Squared is 49\n8 Squared is 64\n9 Squared is 81\n",
          "output_type": "stream"
        }
      ]
    },
    {
      "cell_type": "markdown",
      "source": "---\n1. **First thing to do**\n2. **Second thing to do**\n- *This is not ordered list*\n- *This is not ordered list too!*\n\n[This is a link to IBM.](https://www.ibm.com) \n\nAnd this is my favourite band!\n\n![alt text](https://cdn.britannica.com/83/149183-050-25913164/Queen.jpg)",
      "metadata": {}
    },
    {
      "cell_type": "code",
      "source": "",
      "metadata": {},
      "execution_count": null,
      "outputs": []
    }
  ]
}